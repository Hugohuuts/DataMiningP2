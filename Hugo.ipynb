{
 "cells": [
  {
   "cell_type": "code",
   "execution_count": 4,
   "metadata": {},
   "outputs": [],
   "source": [
    "import pandas as pd\n",
    "import os\n",
    "from sklearn.naive_bayes import MultinomialNB\n",
    "from sklearn.model_selection import train_test_split, GridSearchCV\n",
    "from sklearn.feature_extraction.text import CountVectorizer\n",
    "from sklearn.metrics import accuracy_score, precision_score, recall_score, f1_score\n",
    "from sklearn.linear_model import LogisticRegression\n",
    "from sklearn.tree import DecisionTreeClassifier\n",
    "from sklearn.ensemble import RandomForestClassifier\n",
    "from sklearn.pipeline import Pipeline\n",
    "from sklearn.feature_extraction.text import ENGLISH_STOP_WORDS\n"
   ]
  },
  {
   "cell_type": "markdown",
   "metadata": {},
   "source": [
    "Import data to DF"
   ]
  },
  {
   "cell_type": "code",
   "execution_count": 6,
   "metadata": {},
   "outputs": [],
   "source": [
    "train_data = []\n",
    "test_data = []\n",
    "\n",
    "# Hardcoded pad naar de hoofdmap\n",
    "base_path = r\"/Users/hugo/AI-Tutor/Codebase/DataMiningP2/raw_files/negative_polarity\"\n",
    "\n",
    "# Loop door de klassen (deceptive en truthful)\n",
    "for class_folder in os.listdir(base_path):\n",
    "    class_path = os.path.join(base_path, class_folder)\n",
    "\n",
    "    if os.path.isdir(class_path):\n",
    "        subfolders = os.listdir(class_path)\n",
    "        # pak de eerste 4 folder als train set\n",
    "        for subfolder in subfolders[:-1]:\n",
    "            subfolder_path = os.path.join(class_path, subfolder)\n",
    "            for file_name in os.listdir(subfolder_path):\n",
    "                file_path = os.path.join(subfolder_path, file_name)\n",
    "                with open(file_path, 'r', encoding='utf-8') as file:\n",
    "                    # lowercase alle woorden\n",
    "                    content = file.read().lower()\n",
    "                    # Verwijder engelse stopwoorden\n",
    "                    content = ' '.join([word for word in content.split() if word not in ENGLISH_STOP_WORDS])\n",
    "\n",
    "                    train_data.append((content, class_folder))\n",
    "\n",
    "        # Pak de laatste folder als testset\n",
    "        test_subfolder = subfolders[-1]\n",
    "        test_subfolder_path = os.path.join(class_path, test_subfolder)\n",
    "        for file_name in os.listdir(test_subfolder_path):\n",
    "            file_path = os.path.join(test_subfolder_path, file_name)\n",
    "            with open(file_path, 'r', encoding='utf-8') as file:\n",
    "                # lowercase alle woorden\n",
    "                content = file.read().lower()\n",
    "\n",
    "                # Verwijder engelse stopwoorden\n",
    "                content = ' '.join([word for word in content.split() if word not in ENGLISH_STOP_WORDS])\n",
    "\n",
    "                test_data.append((content, class_folder))\n",
    "\n",
    "# Zet de gegevens om in een DataFrame\n",
    "train_df = pd.DataFrame(train_data, columns=['text', 'label'])\n",
    "test_df = pd.DataFrame(test_data, columns=['text', 'label'])\n"
   ]
  },
  {
   "cell_type": "markdown",
   "metadata": {},
   "source": [
    "EDA"
   ]
  },
  {
   "cell_type": "code",
   "execution_count": 11,
   "metadata": {},
   "outputs": [
    {
     "name": "stdout",
     "output_type": "stream",
     "text": [
      "label\n",
      "deceptive_from_MTurk    320\n",
      "truthful_from_Web       320\n",
      "Name: count, dtype: int64\n",
      "label\n",
      "deceptive_from_MTurk    80\n",
      "truthful_from_Web       80\n",
      "Name: count, dtype: int64\n"
     ]
    }
   ],
   "source": [
    "print(train_df.head())\n",
    "print(test_df.head())\n",
    "print(train_df.info())\n",
    "print(test_df.info())\n",
    "print(train_df.describe())\n",
    "print(test_df.describe())\n",
    "print(train_df['label'].value_counts())\n",
    "print(test_df['label'].value_counts())\n"
   ]
  },
  {
   "cell_type": "markdown",
   "metadata": {},
   "source": [
    "Split train en test variables"
   ]
  },
  {
   "cell_type": "code",
   "execution_count": 13,
   "metadata": {},
   "outputs": [],
   "source": [
    "X_train = train_df['text']\n",
    "y_train = train_df['label']\n",
    "X_test = test_df['text']\n",
    "y_test = test_df['label']"
   ]
  },
  {
   "cell_type": "markdown",
   "metadata": {},
   "source": [
    "--------------------------------------------------------------"
   ]
  },
  {
   "cell_type": "markdown",
   "metadata": {},
   "source": [
    "Multionomial Bayes"
   ]
  },
  {
   "cell_type": "code",
   "execution_count": 40,
   "metadata": {},
   "outputs": [
    {
     "name": "stdout",
     "output_type": "stream",
     "text": [
      "Multinomial_Naive_Bayes ({ngram_type}): \n",
      "Accuracy: 0.775\n",
      "Precision: 0.7756892230576441\n",
      "Recall: 0.775\n",
      "F1 Score: 0.774859287054409\n"
     ]
    }
   ],
   "source": [
    "\n",
    "# Import chi^2 test\n",
    "from sklearn.feature_selection import SelectKBest, chi2\n",
    "\n",
    "# Feature selectie\n",
    "feature_selector = SelectKBest(chi2, k=1000)  # Select top 1000 features\n",
    "\n",
    "# Maak pipeline\n",
    "pipeline = Pipeline([\n",
    "    ('vectorizer', CountVectorizer()),\n",
    "    ('feature_selection', feature_selector),\n",
    "    ('classifier', MultinomialNB())\n",
    "])\n",
    "\n",
    "# Parameter grid\n",
    "param_grid = {\n",
    "    'vectorizer__max_features': [2000, 3000, 4000],\n",
    "    'vectorizer__ngram_range': [(1, 1), (1, 2)],\n",
    "    'feature_selection__k': [500, 1000, 1500],\n",
    "    'classifier__alpha': [0.1, 0.5, 1.0, 1.5, 2.0]\n",
    "}\n",
    "#GridSearchCV\n",
    "grid_search = GridSearchCV(pipeline, param_grid, cv=5, scoring='accuracy')\n",
    "grid_search.fit(X_train, y_train)\n",
    "\n",
    "# Beste estimator\n",
    "best_model = grid_search.best_estimator_\n",
    "\n",
    "# Grbuik die voor prediction met test data\n",
    "y_pred = best_model.predict(X_test)\n",
    "\n",
    "# Metrics\n",
    "accuracy = accuracy_score(y_test, y_pred)\n",
    "precision = precision_score(y_test, y_pred, average='weighted')\n",
    "recall = recall_score(y_test, y_pred, average='weighted')\n",
    "f1 = f1_score(y_test, y_pred, average='weighted')\n",
    "\n",
    "print(\"Multinomial_Naive_Bayes ({ngram_type}): \")\n",
    "print(f'Accuracy: {accuracy}')\n",
    "print(f'Precision: {precision}')\n",
    "print(f'Recall: {recall}')\n",
    "print(f'F1 Score: {f1}')"
   ]
  },
  {
   "cell_type": "markdown",
   "metadata": {},
   "source": [
    "\n"
   ]
  },
  {
   "cell_type": "markdown",
   "metadata": {},
   "source": [
    "--------------------------------------------------------------"
   ]
  },
  {
   "cell_type": "markdown",
   "metadata": {},
   "source": [
    "Logistic Regression"
   ]
  },
  {
   "cell_type": "code",
   "execution_count": 42,
   "metadata": {},
   "outputs": [],
   "source": [
    "pipeline_logreg = Pipeline([\n",
    "    ('vectorizer', CountVectorizer()),\n",
    "    ('feature_selection', SelectKBest(chi2, k=1000)),\n",
    "    ('classifier', LogisticRegression(penalty='l1', max_iter=10000))\n",
    "])\n",
    "\n",
    "param_grid_Log = {\n",
    "    'vectorizer__max_features': [2000, 3000, 4000],\n",
    "    'vectorizer__ngram_range': [(1, 1), (1, 2)],\n",
    "    'classifier__C': [0.001, 0.01, 0.1, 1, 10, 100],\n",
    "    'classifier__solver': ['saga']\n",
    "}\n",
    "\n",
    "# GridSearchCV\n",
    "grid_search_logreg = GridSearchCV(estimator=pipeline_logreg,\n",
    "                                  param_grid=param_grid_Log,\n",
    "                                  cv=5,\n",
    "                                  scoring='accuracy')\n",
    "\n",
    "# Fit op train data\n",
    "grid_search_logreg.fit(X_train, y_train)\n",
    "\n",
    "# Beste estimator\n",
    "best_model_logreg = grid_search_logreg.best_estimator_\n",
    "\n",
    "# Prediction\n",
    "y_pred_logreg = best_model_logreg.predict(X_test)\n",
    "\n",
    "# Metrics\n",
    "accuracy_logreg = accuracy_score(y_test, y_pred_logreg)\n",
    "\n",
    "#print resultaten\n",
    "accuracy_log = accuracy_score(y_test, y_pred)\n",
    "precision_log = precision_score(y_test, y_pred, average='weighted')\n",
    "recall_log = recall_score(y_test, y_pred, average='weighted')\n",
    "f1_log = f1_score(y_test, y_pred, average='weighted')\n",
    "ngram_type = \"Unigrams\" if grid_search_logreg.best_params_['vectorizer__ngram_range'] == (1, 1) else \"Unigrams and Bigrams\"\n"
   ]
  },
  {
   "cell_type": "code",
   "execution_count": 43,
   "metadata": {},
   "outputs": [
    {
     "name": "stdout",
     "output_type": "stream",
     "text": [
      "Logistic Regression (Unigrams and Bigrams): \n",
      "Accuracy: 0.775\n",
      "Precision: 0.7756892230576441\n",
      "Recall: 0.775\n",
      "F1 Score: 0.774859287054409\n"
     ]
    }
   ],
   "source": [
    "print(f\"Logistic Regression ({ngram_type}): \")\n",
    "print(f'Accuracy: {accuracy_log}')\n",
    "print(f'Precision: {precision_log}')\n",
    "print(f'Recall: {recall_log}')\n",
    "print(f'F1 Score: {f1_log}')"
   ]
  },
  {
   "cell_type": "markdown",
   "metadata": {},
   "source": [
    "--------------------------------------------------------------"
   ]
  },
  {
   "cell_type": "markdown",
   "metadata": {},
   "source": [
    "Decision Tree"
   ]
  },
  {
   "cell_type": "code",
   "execution_count": 44,
   "metadata": {},
   "outputs": [
    {
     "name": "stdout",
     "output_type": "stream",
     "text": [
      "Decision Tree (Unigrams and Bigrams): \n",
      "Accuracy: 0.70625\n",
      "Precision: 0.7070588235294117\n",
      "Recall: 0.70625\n",
      "F1 Score: 0.7059628543499512\n"
     ]
    }
   ],
   "source": [
    "# Decision Tree met pipeline\n",
    "pipeline_dt = Pipeline([\n",
    "    ('vectorizer', CountVectorizer()),\n",
    "    ('classifier', DecisionTreeClassifier())\n",
    "])\n",
    "\n",
    "tuned_param_dt = {\n",
    "    'vectorizer__max_features': [2000, 3000, 4000],\n",
    "    'vectorizer__ngram_range': [(1, 1), (1, 2)],\n",
    "    'classifier__max_depth': [3, 5, 7, None],\n",
    "    'classifier__ccp_alpha': [0.0, 0.001, 0.01]\n",
    "}\n",
    "\n",
    "# GridSearchCV\n",
    "grid_search_dt = GridSearchCV(\n",
    "    estimator=pipeline_dt,\n",
    "    param_grid=tuned_param_dt,\n",
    "    scoring='accuracy',\n",
    "    cv=5,\n",
    "    n_jobs=-1\n",
    ")\n",
    "\n",
    "# Fit op train data\n",
    "grid_search_dt.fit(X_train, y_train)\n",
    "\n",
    "# Beste estimator\n",
    "best_model_dt = grid_search_dt.best_estimator_\n",
    "ngram_type = \"Unigrams\" if grid_search_dt.best_params_['vectorizer__ngram_range'] == (1, 1) else \"Unigrams and Bigrams\"\n",
    "# Prediction\n",
    "y_pred_dt = best_model_dt.predict(X_test)\n",
    "\n",
    "# Metrics\n",
    "accuracy_tree = accuracy_score(y_test, y_pred_dt)\n",
    "precision_tree = precision_score(y_test, y_pred_dt, average='weighted')\n",
    "recall_tree = recall_score(y_test, y_pred_dt, average='weighted')\n",
    "f1_tree = f1_score(y_test, y_pred_dt, average='weighted')\n",
    "\n",
    "print(f\"Decision Tree ({ngram_type}): \")\n",
    "print(f'Accuracy: {accuracy_tree}')\n",
    "print(f'Precision: {precision_tree}')\n",
    "print(f'Recall: {recall_tree}')\n",
    "print(f'F1 Score: {f1_tree}')\n"
   ]
  },
  {
   "cell_type": "markdown",
   "metadata": {},
   "source": [
    "--------------------------------------------------------------"
   ]
  },
  {
   "cell_type": "markdown",
   "metadata": {},
   "source": [
    "Random Forests"
   ]
  },
  {
   "cell_type": "code",
   "execution_count": 45,
   "metadata": {},
   "outputs": [
    {
     "name": "stdout",
     "output_type": "stream",
     "text": [
      "Random Forests (Unigrams): \n",
      "Accuracy: 0.825\n",
      "Precision: 0.8252032520325203\n",
      "Recall: 0.825\n",
      "F1 Score: 0.8249726519768714\n"
     ]
    }
   ],
   "source": [
    "pipeline_rf = Pipeline([\n",
    "    ('vectorizer', CountVectorizer()),\n",
    "    ('classifier', RandomForestClassifier())\n",
    "])\n",
    "\n",
    "tuned_param_rf = {\n",
    "    'vectorizer__max_features': [2000, 3000, 4000],\n",
    "    'vectorizer__ngram_range': [(1, 1), (1, 2)],\n",
    "    'classifier__n_estimators': [100, 200, 300],\n",
    "    'classifier__max_depth': [3, 5, 7, None],\n",
    "    'classifier__criterion': ['entropy', 'gini'],\n",
    "\n",
    "}\n",
    "\n",
    "# GridSearchCV\n",
    "grid_search_rf = GridSearchCV(\n",
    "    estimator=pipeline_rf,\n",
    "    param_grid=tuned_param_rf,\n",
    "    scoring='accuracy',\n",
    "    cv=5,\n",
    "    n_jobs=-1\n",
    ")\n",
    "\n",
    "# Fit op train data\n",
    "grid_search_rf.fit(X_train, y_train)\n",
    "\n",
    "# Beste estimator\n",
    "best_model_rf = grid_search_rf.best_estimator_\n",
    "ngram_type = \"Unigrams\" if grid_search_rf.best_params_['vectorizer__ngram_range'] == (1, 1) else \"Unigrams and Bigrams\"\n",
    "\n",
    "y_pred_rf = best_model_rf.predict(X_test)\n",
    "\n",
    "accuracy_rf = accuracy_score(y_test, y_pred_rf)\n",
    "precision_rf = precision_score(y_test, y_pred_rf, average='weighted')\n",
    "recall_rf = recall_score(y_test, y_pred_rf, average='weighted')\n",
    "f1_rf = f1_score(y_test, y_pred_rf, average='weighted')\n",
    "\n",
    "print(f\"Random Forests ({ngram_type}): \")\n",
    "print(f'Accuracy: {accuracy_rf}')\n",
    "print(f'Precision: {precision_rf}')\n",
    "print(f'Recall: {recall_rf}')\n",
    "print(f'F1 Score: {f1_rf}')"
   ]
  },
  {
   "cell_type": "markdown",
   "metadata": {},
   "source": [
    "important features uit Randomforest halen"
   ]
  },
  {
   "cell_type": "code",
   "execution_count": null,
   "metadata": {},
   "outputs": [],
   "source": []
  }
 ],
 "metadata": {
  "kernelspec": {
   "display_name": "Python 3",
   "language": "python",
   "name": "python3"
  },
  "language_info": {
   "codemirror_mode": {
    "name": "ipython",
    "version": 3
   },
   "file_extension": ".py",
   "mimetype": "text/x-python",
   "name": "python",
   "nbconvert_exporter": "python",
   "pygments_lexer": "ipython3",
   "version": "3.8.3"
  }
 },
 "nbformat": 4,
 "nbformat_minor": 2
}
