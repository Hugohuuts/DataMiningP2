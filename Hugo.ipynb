{
 "cells": [
  {
   "cell_type": "code",
   "execution_count": 2,
   "metadata": {},
   "outputs": [],
   "source": [
    "import pandas as pd\n",
    "import os\n",
    "from sklearn.naive_bayes import MultinomialNB\n",
    "from sklearn.model_selection import train_test_split, GridSearchCV\n",
    "from sklearn.feature_extraction.text import CountVectorizer\n",
    "from sklearn.metrics import accuracy_score, precision_score, recall_score, f1_score\n",
    "from sklearn.linear_model import LogisticRegression\n",
    "from sklearn.tree import DecisionTreeClassifier\n",
    "from sklearn.ensemble import RandomForestClassifier\n",
    "from sklearn.pipeline import Pipeline\n",
    "from sklearn.feature_extraction.text import ENGLISH_STOP_WORDS\n"
   ]
  },
  {
   "cell_type": "markdown",
   "metadata": {},
   "source": [
    "Import data to DF"
   ]
  },
  {
   "cell_type": "code",
   "execution_count": 3,
   "metadata": {},
   "outputs": [],
   "source": [
    "train_data = []\n",
    "test_data = []\n",
    "\n",
    "# Hardcoded pad naar de hoofdmap\n",
    "base_path = r\"/Users/hugo/AI-Tutor/Codebase/DataMiningP2/raw_files/negative_polarity\"\n",
    "\n",
    "# Loop door de klassen (deceptive en truthful)\n",
    "for class_folder in os.listdir(base_path):\n",
    "    class_path = os.path.join(base_path, class_folder)\n",
    "\n",
    "    if os.path.isdir(class_path):\n",
    "        subfolders = os.listdir(class_path)\n",
    "        # pak de eerste 4 folder als train set\n",
    "        for subfolder in subfolders[:-1]:\n",
    "            subfolder_path = os.path.join(class_path, subfolder)\n",
    "            for file_name in os.listdir(subfolder_path):\n",
    "                file_path = os.path.join(subfolder_path, file_name)\n",
    "                with open(file_path, 'r', encoding='utf-8') as file:\n",
    "                    # lowercase alle woorden\n",
    "                    content = file.read().lower()\n",
    "                    # Verwijder engelse stopwoorden\n",
    "                    content = ' '.join([word for word in content.split() if word not in ENGLISH_STOP_WORDS])\n",
    "\n",
    "                    train_data.append((content, class_folder))\n",
    "\n",
    "        # Pak de laatste folder als testset\n",
    "        test_subfolder = subfolders[-1]\n",
    "        test_subfolder_path = os.path.join(class_path, test_subfolder)\n",
    "        for file_name in os.listdir(test_subfolder_path):\n",
    "            file_path = os.path.join(test_subfolder_path, file_name)\n",
    "            with open(file_path, 'r', encoding='utf-8') as file:\n",
    "                # lowercase alle woorden\n",
    "                content = file.read().lower()\n",
    "\n",
    "                # Verwijder engelse stopwoorden\n",
    "                content = ' '.join([word for word in content.split() if word not in ENGLISH_STOP_WORDS])\n",
    "\n",
    "                test_data.append((content, class_folder))\n",
    "\n",
    "# Zet de gegevens om in een DataFrame\n",
    "train_df = pd.DataFrame(train_data, columns=['text', 'label'])\n",
    "test_df = pd.DataFrame(test_data, columns=['text', 'label'])\n"
   ]
  },
  {
   "cell_type": "markdown",
   "metadata": {},
   "source": [
    "EDA"
   ]
  },
  {
   "cell_type": "code",
   "execution_count": 4,
   "metadata": {},
   "outputs": [
    {
     "name": "stdout",
     "output_type": "stream",
     "text": [
      "                                                text                 label\n",
      "0  talbott hotel claims chicago's premiere small ...  deceptive_from_MTurk\n",
      "1  selected talbott recent family vacation chicag...  deceptive_from_MTurk\n",
      "2  recently stayed affinia hotel chicago, worst e...  deceptive_from_MTurk\n",
      "3  husband stayed hard rock hotel chicago months ...  deceptive_from_MTurk\n",
      "4  stayed hard rock hotel chicago recently conven...  deceptive_from_MTurk\n",
      "                                                text                 label\n",
      "0  husband stayed sofitel chicago water tower nig...  deceptive_from_MTurk\n",
      "1  staying sofitel pleasurable experiences chicag...  deceptive_from_MTurk\n",
      "2  stayed sofitel husband weekend staying again! ...  deceptive_from_MTurk\n",
      "3  stayed sofitel chicago water tower hotel coupl...  deceptive_from_MTurk\n",
      "4  arriving sofitel chicago water tower hotel gre...  deceptive_from_MTurk\n",
      "<class 'pandas.core.frame.DataFrame'>\n",
      "RangeIndex: 640 entries, 0 to 639\n",
      "Data columns (total 2 columns):\n",
      " #   Column  Non-Null Count  Dtype \n",
      "---  ------  --------------  ----- \n",
      " 0   text    640 non-null    object\n",
      " 1   label   640 non-null    object\n",
      "dtypes: object(2)\n",
      "memory usage: 10.1+ KB\n",
      "None\n",
      "<class 'pandas.core.frame.DataFrame'>\n",
      "RangeIndex: 160 entries, 0 to 159\n",
      "Data columns (total 2 columns):\n",
      " #   Column  Non-Null Count  Dtype \n",
      "---  ------  --------------  ----- \n",
      " 0   text    160 non-null    object\n",
      " 1   label   160 non-null    object\n",
      "dtypes: object(2)\n",
      "memory usage: 2.6+ KB\n",
      "None\n",
      "                                                     text  \\\n",
      "count                                                 640   \n",
      "unique                                                637   \n",
      "top     omni chosen it's location whichworked perfectl...   \n",
      "freq                                                    2   \n",
      "\n",
      "                       label  \n",
      "count                    640  \n",
      "unique                     2  \n",
      "top     deceptive_from_MTurk  \n",
      "freq                     320  \n",
      "                                                     text  \\\n",
      "count                                                 160   \n",
      "unique                                                159   \n",
      "top     disappointed stay chicago monoco. stayed times...   \n",
      "freq                                                    2   \n",
      "\n",
      "                       label  \n",
      "count                    160  \n",
      "unique                     2  \n",
      "top     deceptive_from_MTurk  \n",
      "freq                      80  \n",
      "label\n",
      "deceptive_from_MTurk    320\n",
      "truthful_from_Web       320\n",
      "Name: count, dtype: int64\n",
      "label\n",
      "deceptive_from_MTurk    80\n",
      "truthful_from_Web       80\n",
      "Name: count, dtype: int64\n"
     ]
    }
   ],
   "source": [
    "print(train_df.head())\n",
    "print(test_df.head())\n",
    "print(train_df.info())\n",
    "print(test_df.info())\n",
    "print(train_df.describe())\n",
    "print(test_df.describe())\n",
    "print(train_df['label'].value_counts())\n",
    "print(test_df['label'].value_counts())\n"
   ]
  },
  {
   "cell_type": "markdown",
   "metadata": {},
   "source": [
    "Split train en test variables"
   ]
  },
  {
   "cell_type": "code",
   "execution_count": 5,
   "metadata": {},
   "outputs": [],
   "source": [
    "X_train = train_df['text']\n",
    "y_train = train_df['label']\n",
    "X_test = test_df['text']\n",
    "y_test = test_df['label']"
   ]
  },
  {
   "cell_type": "markdown",
   "metadata": {},
   "source": [
    "--------------------------------------------------------------"
   ]
  },
  {
   "cell_type": "markdown",
   "metadata": {},
   "source": [
    "Multionomial Bayes"
   ]
  },
  {
   "cell_type": "code",
   "execution_count": 6,
   "metadata": {},
   "outputs": [
    {
     "name": "stdout",
     "output_type": "stream",
     "text": [
      "Multinomial_Naive_Bayes ({ngram_type}): \n",
      "Accuracy: 0.775\n",
      "Precision: 0.7756892230576441\n",
      "Recall: 0.775\n",
      "F1 Score: 0.774859287054409\n"
     ]
    }
   ],
   "source": [
    "\n",
    "# Import chi^2 test\n",
    "from sklearn.feature_selection import SelectKBest, chi2\n",
    "\n",
    "# Feature selectie\n",
    "feature_selector = SelectKBest(chi2, k=1000)  # Select top 1000 features\n",
    "\n",
    "# Maak pipeline\n",
    "pipeline = Pipeline([\n",
    "    ('vectorizer', CountVectorizer()),\n",
    "    ('feature_selection', feature_selector),\n",
    "    ('classifier', MultinomialNB())\n",
    "])\n",
    "\n",
    "# Parameter grid\n",
    "param_grid = {\n",
    "    'vectorizer__max_features': [2000, 3000, 4000],\n",
    "    'vectorizer__ngram_range': [(1, 1), (1, 2)],\n",
    "    'feature_selection__k': [500, 1000, 1500],\n",
    "    'classifier__alpha': [0.1, 0.5, 1.0, 1.5, 2.0]\n",
    "}\n",
    "#GridSearchCV\n",
    "grid_search = GridSearchCV(pipeline, param_grid, cv=5, scoring='accuracy')\n",
    "grid_search.fit(X_train, y_train)\n",
    "\n",
    "# Beste estimator\n",
    "best_model = grid_search.best_estimator_\n",
    "\n",
    "# Grbuik die voor prediction met test data\n",
    "y_pred = best_model.predict(X_test)\n",
    "\n",
    "# Metrics\n",
    "accuracy = accuracy_score(y_test, y_pred)\n",
    "precision = precision_score(y_test, y_pred, average='weighted')\n",
    "recall = recall_score(y_test, y_pred, average='weighted')\n",
    "f1 = f1_score(y_test, y_pred, average='weighted')\n",
    "\n",
    "print(\"Multinomial_Naive_Bayes ({ngram_type}): \")\n",
    "print(f'Accuracy: {accuracy}')\n",
    "print(f'Precision: {precision}')\n",
    "print(f'Recall: {recall}')\n",
    "print(f'F1 Score: {f1}')"
   ]
  },
  {
   "cell_type": "markdown",
   "metadata": {},
   "source": [
    "\n"
   ]
  },
  {
   "cell_type": "markdown",
   "metadata": {},
   "source": [
    "--------------------------------------------------------------"
   ]
  },
  {
   "cell_type": "markdown",
   "metadata": {},
   "source": [
    "Logistic Regression"
   ]
  },
  {
   "cell_type": "code",
   "execution_count": 7,
   "metadata": {},
   "outputs": [],
   "source": [
    "pipeline_logreg = Pipeline([\n",
    "    ('vectorizer', CountVectorizer()),\n",
    "    ('feature_selection', SelectKBest(chi2, k=1000)),\n",
    "    ('classifier', LogisticRegression(penalty='l1', max_iter=10000))\n",
    "])\n",
    "\n",
    "param_grid_Log = {\n",
    "    'vectorizer__max_features': [2000, 3000, 4000],\n",
    "    'vectorizer__ngram_range': [(1, 1), (1, 2)],\n",
    "    'classifier__C': [0.001, 0.01, 0.1, 1, 10, 100],\n",
    "    'classifier__solver': ['saga']\n",
    "}\n",
    "\n",
    "# GridSearchCV\n",
    "grid_search_logreg = GridSearchCV(estimator=pipeline_logreg,\n",
    "                                  param_grid=param_grid_Log,\n",
    "                                  cv=5,\n",
    "                                  scoring='accuracy')\n",
    "\n",
    "# Fit op train data\n",
    "grid_search_logreg.fit(X_train, y_train)\n",
    "\n",
    "# Beste estimator\n",
    "best_model_logreg = grid_search_logreg.best_estimator_\n",
    "\n",
    "# Prediction\n",
    "y_pred_logreg = best_model_logreg.predict(X_test)\n",
    "\n",
    "# Metrics\n",
    "accuracy_logreg = accuracy_score(y_test, y_pred_logreg)\n",
    "\n",
    "#print resultaten\n",
    "accuracy_log = accuracy_score(y_test, y_pred)\n",
    "precision_log = precision_score(y_test, y_pred, average='weighted')\n",
    "recall_log = recall_score(y_test, y_pred, average='weighted')\n",
    "f1_log = f1_score(y_test, y_pred, average='weighted')\n",
    "ngram_type = \"Unigrams\" if grid_search_logreg.best_params_['vectorizer__ngram_range'] == (1, 1) else \"Unigrams and Bigrams\"\n"
   ]
  },
  {
   "cell_type": "code",
   "execution_count": 8,
   "metadata": {},
   "outputs": [
    {
     "name": "stdout",
     "output_type": "stream",
     "text": [
      "Logistic Regression (Unigrams and Bigrams): \n",
      "Accuracy: 0.775\n",
      "Precision: 0.7756892230576441\n",
      "Recall: 0.775\n",
      "F1 Score: 0.774859287054409\n"
     ]
    }
   ],
   "source": [
    "print(f\"Logistic Regression ({ngram_type}): \")\n",
    "print(f'Accuracy: {accuracy_log}')\n",
    "print(f'Precision: {precision_log}')\n",
    "print(f'Recall: {recall_log}')\n",
    "print(f'F1 Score: {f1_log}')"
   ]
  },
  {
   "cell_type": "markdown",
   "metadata": {},
   "source": [
    "--------------------------------------------------------------"
   ]
  },
  {
   "cell_type": "markdown",
   "metadata": {},
   "source": [
    "Decision Tree"
   ]
  },
  {
   "cell_type": "code",
   "execution_count": 9,
   "metadata": {},
   "outputs": [
    {
     "name": "stdout",
     "output_type": "stream",
     "text": [
      "Decision Tree (Unigrams and Bigrams): \n",
      "Accuracy: 0.71875\n",
      "Precision: 0.7190580503833516\n",
      "Recall: 0.71875\n",
      "F1 Score: 0.7186510882732211\n"
     ]
    }
   ],
   "source": [
    "# Decision Tree met pipeline\n",
    "pipeline_dt = Pipeline([\n",
    "    ('vectorizer', CountVectorizer()),\n",
    "    ('classifier', DecisionTreeClassifier())\n",
    "])\n",
    "\n",
    "tuned_param_dt = {\n",
    "    'vectorizer__max_features': [2000, 3000, 4000],\n",
    "    'vectorizer__ngram_range': [(1, 1), (1, 2)],\n",
    "    'classifier__max_depth': [3, 5, 7, None],\n",
    "    'classifier__ccp_alpha': [0.0, 0.001, 0.01]\n",
    "}\n",
    "\n",
    "# GridSearchCV\n",
    "grid_search_dt = GridSearchCV(\n",
    "    estimator=pipeline_dt,\n",
    "    param_grid=tuned_param_dt,\n",
    "    scoring='accuracy',\n",
    "    cv=5,\n",
    "    n_jobs=-1\n",
    ")\n",
    "\n",
    "# Fit op train data\n",
    "grid_search_dt.fit(X_train, y_train)\n",
    "\n",
    "# Beste estimator\n",
    "best_model_dt = grid_search_dt.best_estimator_\n",
    "ngram_type = \"Unigrams\" if grid_search_dt.best_params_['vectorizer__ngram_range'] == (1, 1) else \"Unigrams and Bigrams\"\n",
    "# Prediction\n",
    "y_pred_dt = best_model_dt.predict(X_test)\n",
    "\n",
    "# Metrics\n",
    "accuracy_tree = accuracy_score(y_test, y_pred_dt)\n",
    "precision_tree = precision_score(y_test, y_pred_dt, average='weighted')\n",
    "recall_tree = recall_score(y_test, y_pred_dt, average='weighted')\n",
    "f1_tree = f1_score(y_test, y_pred_dt, average='weighted')\n",
    "\n",
    "print(f\"Decision Tree ({ngram_type}): \")\n",
    "print(f'Accuracy: {accuracy_tree}')\n",
    "print(f'Precision: {precision_tree}')\n",
    "print(f'Recall: {recall_tree}')\n",
    "print(f'F1 Score: {f1_tree}')\n"
   ]
  },
  {
   "cell_type": "markdown",
   "metadata": {},
   "source": [
    "--------------------------------------------------------------"
   ]
  },
  {
   "cell_type": "markdown",
   "metadata": {},
   "source": [
    "Random Forests"
   ]
  },
  {
   "cell_type": "code",
   "execution_count": 10,
   "metadata": {},
   "outputs": [
    {
     "name": "stdout",
     "output_type": "stream",
     "text": [
      "Random Forests (Unigrams and Bigrams): \n",
      "Best OOB Score: 0.8640625\n",
      "Best Parameters: {'classifier__criterion': 'entropy', 'classifier__max_depth': None, 'classifier__n_estimators': 300, 'vectorizer__max_features': 3000, 'vectorizer__ngram_range': (1, 2)}\n",
      "Test Accuracy: 0.80625\n",
      "Test Precision: 0.806297859040475\n",
      "Test Recall: 0.80625\n",
      "Test F1 Score: 0.8062424313449743\n"
     ]
    }
   ],
   "source": [
    "from sklearn.model_selection import ParameterGrid\n",
    "\n",
    "pipeline_rf = Pipeline([\n",
    "    ('vectorizer', CountVectorizer()),\n",
    "    ('classifier', RandomForestClassifier(oob_score=True))\n",
    "])\n",
    "\n",
    "param_grid_rf = {\n",
    "    'vectorizer__max_features': [2000, 3000, 4000],\n",
    "    'vectorizer__ngram_range': [(1, 1), (1, 2)],\n",
    "    'classifier__n_estimators': [100, 200, 300],\n",
    "    'classifier__max_depth': [3, 5, 7, None],\n",
    "    'classifier__criterion': ['entropy', 'gini'],\n",
    "}\n",
    "\n",
    "best_oob_score = 0\n",
    "best_params = None\n",
    "best_model = None\n",
    "\n",
    "# Iterate through parameter combinations\n",
    "for params in ParameterGrid(param_grid_rf):\n",
    "    # Set parameters\n",
    "    pipeline_rf.set_params(**params)\n",
    "\n",
    "    # Fit the model\n",
    "    pipeline_rf.fit(X_train, y_train)\n",
    "\n",
    "    # Get OOB score\n",
    "    oob_score = pipeline_rf.named_steps['classifier'].oob_score_\n",
    "\n",
    "    # Update best model if OOB score improves\n",
    "    if oob_score > best_oob_score:\n",
    "        best_oob_score = oob_score\n",
    "        best_params = params\n",
    "        best_model = pipeline_rf\n",
    "\n",
    "# Use the best model for predictions\n",
    "y_pred_rf = best_model.predict(X_test)\n",
    "\n",
    "# Calculate metrics\n",
    "accuracy_rf = accuracy_score(y_test, y_pred_rf)\n",
    "precision_rf = precision_score(y_test, y_pred_rf, average='weighted')\n",
    "recall_rf = recall_score(y_test, y_pred_rf, average='weighted')\n",
    "f1_rf = f1_score(y_test, y_pred_rf, average='weighted')\n",
    "\n",
    "ngram_type = \"Unigrams\" if best_params['vectorizer__ngram_range'] == (1, 1) else \"Unigrams and Bigrams\"\n",
    "\n",
    "print(f\"Random Forests ({ngram_type}): \")\n",
    "print(f'Best OOB Score: {best_oob_score}')\n",
    "print(f'Best Parameters: {best_params}')\n",
    "print(f'Test Accuracy: {accuracy_rf}')\n",
    "print(f'Test Precision: {precision_rf}')\n",
    "print(f'Test Recall: {recall_rf}')\n",
    "print(f'Test F1 Score: {f1_rf}')"
   ]
  },
  {
   "cell_type": "markdown",
   "metadata": {},
   "source": [
    "important features uit Randomforest halen"
   ]
  },
  {
   "cell_type": "code",
   "execution_count": 11,
   "metadata": {},
   "outputs": [
    {
     "name": "stdout",
     "output_type": "stream",
     "text": [
      "Top 20 Most Important Features:\n",
      "              feature  importance\n",
      "617           chicago    0.028529\n",
      "1733    hotel chicago    0.010405\n",
      "2144         location    0.009680\n",
      "3268          smelled    0.006863\n",
      "2828         recently    0.006666\n",
      "3266            smell    0.006211\n",
      "2316       millennium    0.005548\n",
      "2829  recently stayed    0.005221\n",
      "2213           luxury    0.005108\n",
      "1546            great    0.005007\n",
      "683           cleaned    0.004790\n",
      "1364          finally    0.004727\n",
      "3891          website    0.004650\n",
      "3703           turned    0.004591\n",
      "628     chicago hotel    0.004528\n",
      "1713            hotel    0.004298\n",
      "3351             star    0.004201\n",
      "2106             like    0.003917\n",
      "1165         elevator    0.003783\n",
      "1166        elevators    0.003745\n"
     ]
    },
    {
     "data": {
      "image/png": "[encoded data removed]",
      "text/plain": [
       "<Figure size 1200x800 with 1 Axes>"
      ]
     },
     "metadata": {},
     "output_type": "display_data"
    }
   ],
   "source": [
    "# Extract feature importances from the best Random Forest model\n",
    "feature_importances = best_model.named_steps['classifier'].feature_importances_\n",
    "\n",
    "# Get feature names from the vectorizer\n",
    "feature_names = best_model.named_steps['vectorizer'].get_feature_names_out()\n",
    "\n",
    "# Create a DataFrame with feature names and their importances\n",
    "importance_df = pd.DataFrame({\n",
    "    'feature': feature_names,\n",
    "    'importance': feature_importances\n",
    "})\n",
    "\n",
    "# Sort the DataFrame by importance in descending order\n",
    "importance_df = importance_df.sort_values('importance', ascending=False)\n",
    "\n",
    "# Display the top 20 most important features\n",
    "print(\"Top 20 Most Important Features:\")\n",
    "print(importance_df.head(20))\n",
    "import matplotlib.pyplot as plt\n",
    "import seaborn as sns\n",
    "# Visualize the top 20 features\n",
    "plt.figure(figsize=(12, 8))\n",
    "sns.barplot(x='importance', y='feature', data=importance_df.head(20))\n",
    "plt.title('Top 20 Most Important Features in Random Forest Model')\n",
    "plt.xlabel('Importance')\n",
    "plt.ylabel('Feature')\n",
    "plt.tight_layout()\n",
    "plt.show()\n"
   ]
  },
  {
   "cell_type": "code",
   "execution_count": 12,
   "metadata": {},
   "outputs": [
    {
     "name": "stdout",
     "output_type": "stream",
     "text": [
      "\n",
      "McNemar's test results for Naive Bayes vs Logistic Regression\n",
      "Statistic: 7.0000\n",
      "P-value: 0.0639\n",
      "Null hypothesis: the two models have the same error rate\n",
      "Reject null hypothesis: False\n",
      "\n",
      "McNemar's test results for Naive Bayes vs Decision Tree\n",
      "Statistic: 18.0000\n",
      "P-value: 0.2327\n",
      "Null hypothesis: the two models have the same error rate\n",
      "Reject null hypothesis: False\n",
      "\n",
      "McNemar's test results for Naive Bayes vs Random Forest\n",
      "Statistic: 9.0000\n",
      "P-value: 0.4049\n",
      "Null hypothesis: the two models have the same error rate\n",
      "Reject null hypothesis: False\n",
      "\n",
      "McNemar's test results for Logistic Regression vs Decision Tree\n",
      "Statistic: 9.0000\n",
      "P-value: 0.0026\n",
      "Null hypothesis: the two models have the same error rate\n",
      "Reject null hypothesis: True\n",
      "\n",
      "McNemar's test results for Logistic Regression vs Random Forest\n",
      "Statistic: 8.0000\n",
      "P-value: 0.3833\n",
      "Null hypothesis: the two models have the same error rate\n",
      "Reject null hypothesis: False\n",
      "\n",
      "McNemar's test results for Decision Tree vs Random Forest\n",
      "Statistic: 11.0000\n",
      "P-value: 0.0288\n",
      "Null hypothesis: the two models have the same error rate\n",
      "Reject null hypothesis: True\n"
     ]
    }
   ],
   "source": [
    "from statsmodels.stats.contingency_tables import mcnemar\n",
    "\n",
    "def perform_mcnemar_test(y_true, pred1, pred2, model1_name, model2_name):\n",
    "    # Create contingency table\n",
    "    table = [[0, 0], [0, 0]]\n",
    "    for i in range(len(y_true)):\n",
    "        if pred1[i] == y_true[i] and pred2[i] == y_true[i]:\n",
    "            table[0][0] += 1\n",
    "        elif pred1[i] == y_true[i] and pred2[i] != y_true[i]:\n",
    "            table[0][1] += 1\n",
    "        elif pred1[i] != y_true[i] and pred2[i] == y_true[i]:\n",
    "            table[1][0] += 1\n",
    "        else:\n",
    "            table[1][1] += 1\n",
    "\n",
    "    # Perform McNemar test\n",
    "    result = mcnemar(table, exact=True)\n",
    "\n",
    "    print(f\"\\nMcNemar's test results for {model1_name} vs {model2_name}\")\n",
    "    print(f\"Statistic: {result.statistic:.4f}\")\n",
    "    print(f\"P-value: {result.pvalue:.4f}\")\n",
    "    print(\"Null hypothesis: the two models have the same error rate\")\n",
    "    print(f\"Reject null hypothesis: {result.pvalue < 0.05}\")\n",
    "\n",
    "# Perform all pairwise comparisons\n",
    "model_predictions = {\n",
    "    'Naive Bayes': y_pred,\n",
    "    'Logistic Regression': y_pred_logreg,\n",
    "    'Decision Tree': y_pred_dt,\n",
    "    'Random Forest': y_pred_rf\n",
    "}\n",
    "\n",
    "# Compare all pairs of models\n",
    "models = list(model_predictions.keys())\n",
    "for i in range(len(models)):\n",
    "    for j in range(i + 1, len(models)):\n",
    "        perform_mcnemar_test(\n",
    "            y_test,\n",
    "            model_predictions[models[i]],\n",
    "            model_predictions[models[j]],\n",
    "            models[i],\n",
    "            models[j]\n",
    "        )"
   ]
  },
  {
   "cell_type": "code",
   "execution_count": 14,
   "metadata": {},
   "outputs": [
    {
     "name": "stdout",
     "output_type": "stream",
     "text": [
      "1. Comparing Naive Bayes vs Logistic Regression:\n",
      "\n",
      "McNemar's test results for Naive Bayes vs Logistic Regression\n",
      "Statistic: 7.0000\n",
      "P-value: 0.0639\n",
      "Null hypothesis: the two models have the same error rate\n",
      "Reject null hypothesis: False\n",
      "\n",
      "2. Comparing Random Forest vs Linear Models:\n",
      "\n",
      "McNemar's test results for Random Forest vs Naive Bayes\n",
      "Statistic: 9.0000\n",
      "P-value: 0.4049\n",
      "Null hypothesis: the two models have the same error rate\n",
      "Reject null hypothesis: False\n",
      "\n",
      "McNemar's test results for Random Forest vs Logistic Regression\n",
      "Statistic: 8.0000\n",
      "P-value: 0.3833\n",
      "Null hypothesis: the two models have the same error rate\n",
      "Reject null hypothesis: False\n",
      "\n",
      "3. Comparing Unigram vs Bigram performance:\n",
      "Naive Bayes_bigram: Accuracy = 0.7750\n",
      "Logistic_bigram: Accuracy = 0.8375\n",
      "RandomForest_bigram: Accuracy = 0.8063\n"
     ]
    }
   ],
   "source": [
    "# Store results from each model with their feature type\n",
    "model_results = {\n",
    "    'Naive Bayes_unigram': y_pred if grid_search.best_params_['vectorizer__ngram_range'] == (1, 1) else None,\n",
    "    'Naive Bayes_bigram': y_pred if grid_search.best_params_['vectorizer__ngram_range'] == (1, 2) else None,\n",
    "    'Logistic_unigram': y_pred_logreg if grid_search_logreg.best_params_['vectorizer__ngram_range'] == (1, 1) else None,\n",
    "    'Logistic_bigram': y_pred_logreg if grid_search_logreg.best_params_['vectorizer__ngram_range'] == (1, 2) else None,\n",
    "    'RandomForest_unigram': y_pred_rf if best_params['vectorizer__ngram_range'] == (1, 1) else None,\n",
    "    'RandomForest_bigram': y_pred_rf if best_params['vectorizer__ngram_range'] == (1, 2) else None\n",
    "}\n",
    "\n",
    "# Remove None values\n",
    "model_results = {k: v for k, v in model_results.items() if v is not None}\n",
    "\n",
    "print(\"1. Comparing Naive Bayes vs Logistic Regression:\")\n",
    "perform_mcnemar_test(\n",
    "    y_test,\n",
    "    y_pred,  # Naive Bayes predictions\n",
    "    y_pred_logreg,  # Logistic Regression predictions\n",
    "    'Naive Bayes',\n",
    "    'Logistic Regression'\n",
    ")\n",
    "\n",
    "print(\"\\n2. Comparing Random Forest vs Linear Models:\")\n",
    "# Compare RF with Naive Bayes\n",
    "perform_mcnemar_test(\n",
    "    y_test,\n",
    "    y_pred_rf,  # Random Forest predictions\n",
    "    y_pred,  # Naive Bayes predictions\n",
    "    'Random Forest',\n",
    "    'Naive Bayes'\n",
    ")\n",
    "# Compare RF with Logistic Regression\n",
    "perform_mcnemar_test(\n",
    "    y_test,\n",
    "    y_pred_rf,  # Random Forest predictions\n",
    "    y_pred_logreg,  # Logistic Regression predictions\n",
    "    'Random Forest',\n",
    "    'Logistic Regression'\n",
    ")\n",
    "\n",
    "print(\"\\n3. Comparing Unigram vs Bigram performance:\")\n",
    "# Print accuracy scores for each model with their feature type\n",
    "for model_name, predictions in model_results.items():\n",
    "    acc = accuracy_score(y_test, predictions)\n",
    "    print(f\"{model_name}: Accuracy = {acc:.4f}\")"
   ]
  }
 ],
 "metadata": {
  "kernelspec": {
   "display_name": "Python 3",
   "language": "python",
   "name": "python3"
  },
  "language_info": {
   "codemirror_mode": {
    "name": "ipython",
    "version": 3
   },
   "file_extension": ".py",
   "mimetype": "text/x-python",
   "name": "python",
   "nbconvert_exporter": "python",
   "pygments_lexer": "ipython3",
   "version": "3.8.3"
  }
 },
 "nbformat": 4,
 "nbformat_minor": 2
}
